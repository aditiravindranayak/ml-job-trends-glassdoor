{
  "nbformat": 4,
  "nbformat_minor": 0,
  "metadata": {
    "colab": {
      "provenance": []
    },
    "kernelspec": {
      "name": "python3",
      "display_name": "Python 3"
    },
    "language_info": {
      "name": "python"
    }
  },
  "cells": [
    {
      "cell_type": "code",
      "execution_count": null,
      "metadata": {
        "colab": {
          "base_uri": "https://localhost:8080/"
        },
        "id": "s-5jdRce4dUD",
        "outputId": "d95d2854-5337-426c-e233-8186b32fc226"
      },
      "outputs": [
        {
          "output_type": "stream",
          "name": "stdout",
          "text": [
            "                           job_title                     company_name  \\\n",
            "0                    VP, Engineering                             Calm   \n",
            "1              Junior AI/ML Engineer               Smith & Associates   \n",
            "2               Junior Data Engineer                             Bose   \n",
            "3     Software Engineer, ML Platform                        Pinterest   \n",
            "4  [ No C2C ] ML Engineer - w/PYTHON  Production Modeling Corporation   \n",
            "\n",
            "            place                         salary  \n",
            "0          Remote  $325K - $375K (Employer est.)  \n",
            "1     Houston, TX   $42K - $64K (Glassdoor est.)  \n",
            "2  Framingham, MA  $88K - $129K (Glassdoor est.)  \n",
            "3          Remote                            NaN  \n",
            "4        Troy, MI  $150K - $162K (Employer est.)  \n"
          ]
        },
        {
          "output_type": "stream",
          "name": "stderr",
          "text": [
            "/usr/local/lib/python3.10/dist-packages/ipykernel/ipkernel.py:283: DeprecationWarning: `should_run_async` will not call `transform_cell` automatically in the future. Please pass the result to `transformed_cell` argument and any exception that happen during thetransform in `preprocessing_exc_tuple` in IPython 7.17 and above.\n",
            "  and should_run_async(code)\n"
          ]
        }
      ],
      "source": [
        "import numpy as np\n",
        "import pandas as pd\n",
        "import matplotlib.pyplot as plt\n",
        "\n",
        "# Path to the dataset\n",
        "file_path = '/content/drive/MyDrive/Dataset/ML_job_glassdore (1).csv'\n",
        "\n",
        "# Load the dataset\n",
        "ml_job_listings = pd.read_csv(file_path)\n",
        "\n",
        "# Display the first few rows of the dataset\n",
        "print(ml_job_listings.head())"
      ]
    },
    {
      "cell_type": "code",
      "source": [
        "print(ml_job_listings.describe())"
      ],
      "metadata": {
        "colab": {
          "base_uri": "https://localhost:8080/"
        },
        "id": "2QSskwMk_PNh",
        "outputId": "6da71a11-1ff2-429d-adec-7cb2f2d74d2d"
      },
      "execution_count": null,
      "outputs": [
        {
          "output_type": "stream",
          "name": "stdout",
          "text": [
            "                        job_title company_name   place  \\\n",
            "count                         300          299     300   \n",
            "unique                        239          211      88   \n",
            "top     Machine Learning Engineer        Apple  Remote   \n",
            "freq                           11           36      65   \n",
            "\n",
            "                               salary  \n",
            "count                             217  \n",
            "unique                            188  \n",
            "top     $173K - $241K (Employer est.)  \n",
            "freq                                4  \n"
          ]
        },
        {
          "output_type": "stream",
          "name": "stderr",
          "text": [
            "/usr/local/lib/python3.10/dist-packages/ipykernel/ipkernel.py:283: DeprecationWarning: `should_run_async` will not call `transform_cell` automatically in the future. Please pass the result to `transformed_cell` argument and any exception that happen during thetransform in `preprocessing_exc_tuple` in IPython 7.17 and above.\n",
            "  and should_run_async(code)\n"
          ]
        }
      ]
    },
    {
      "cell_type": "markdown",
      "source": [
        "#**DATA CLEANING**\n",
        "Handling missing company names"
      ],
      "metadata": {
        "id": "ip-hERMz_iRw"
      }
    },
    {
      "cell_type": "code",
      "source": [
        "ml_job_listings[ml_job_listings[\"company_name\"].isna()]\n",
        "ml_job_listings.iloc[209, 1] = \"Sample Company\""
      ],
      "metadata": {
        "colab": {
          "base_uri": "https://localhost:8080/"
        },
        "id": "5h7qOPtE_WdZ",
        "outputId": "2b5bb51f-cb8f-4fd1-b7c0-5f656f7f39bd"
      },
      "execution_count": null,
      "outputs": [
        {
          "output_type": "stream",
          "name": "stderr",
          "text": [
            "/usr/local/lib/python3.10/dist-packages/ipykernel/ipkernel.py:283: DeprecationWarning: `should_run_async` will not call `transform_cell` automatically in the future. Please pass the result to `transformed_cell` argument and any exception that happen during thetransform in `preprocessing_exc_tuple` in IPython 7.17 and above.\n",
            "  and should_run_async(code)\n"
          ]
        }
      ]
    },
    {
      "cell_type": "markdown",
      "source": [
        "\n",
        "Displaying top 15 value counts for the salary column"
      ],
      "metadata": {
        "id": "Xhw6RHfX_y9w"
      }
    },
    {
      "cell_type": "code",
      "source": [
        "salary_column = ml_job_listings.iloc[:, 3].value_counts()\n",
        "print(salary_column.head(15))"
      ],
      "metadata": {
        "colab": {
          "base_uri": "https://localhost:8080/"
        },
        "id": "_SllXvAu_tzo",
        "outputId": "5f42cf38-a7c7-4464-f648-bb8eb008aa94"
      },
      "execution_count": null,
      "outputs": [
        {
          "output_type": "stream",
          "name": "stdout",
          "text": [
            "salary\n",
            "$173K - $241K (Employer est.)              4\n",
            "$160K - $210K (Employer est.)              3\n",
            "$150K - $200K (Employer est.)              3\n",
            "$181K - $246K (Employer est.)              3\n",
            "$140K - $180K (Employer est.)              3\n",
            "$190K - $245K (Employer est.)              2\n",
            "$78K - $122K (Employer est.)               2\n",
            "$76K - $120K (Glassdoor est.)              2\n",
            "$135K (Employer est.)                      2\n",
            "$55K - $60K (Employer est.)                2\n",
            "$135K - $200K (Employer est.)              2\n",
            "$152K (Employer est.)                      2\n",
            "$73K - $166K (Employer est.)               2\n",
            "$214K (Employer est.)                      2\n",
            "$60.00 - $70.00 Per Hour(Employer est.)    2\n",
            "Name: count, dtype: int64\n"
          ]
        },
        {
          "output_type": "stream",
          "name": "stderr",
          "text": [
            "/usr/local/lib/python3.10/dist-packages/ipykernel/ipkernel.py:283: DeprecationWarning: `should_run_async` will not call `transform_cell` automatically in the future. Please pass the result to `transformed_cell` argument and any exception that happen during thetransform in `preprocessing_exc_tuple` in IPython 7.17 and above.\n",
            "  and should_run_async(code)\n"
          ]
        }
      ]
    },
    {
      "cell_type": "code",
      "source": [
        "# Function to add empty columns\n",
        "def add_empty_columns(df):\n",
        "    return pd.concat([\n",
        "        df,\n",
        "        pd.Series(np.nan, index=df.index, name=\"minimum_salary\"),\n",
        "        pd.Series(np.nan, index=df.index, name=\"maximum_salary\"),\n",
        "        pd.Series(np.nan, index=df.index, name=\"estimated_by\")\n",
        "    ], axis=1)\n",
        "\n",
        "# Function to separate hourly salary data\n",
        "def separate_hourly_data(row):\n",
        "    slist = row[3].split(\" \")\n",
        "    minimum, maximum, estimated_by = None, None, None\n",
        "\n",
        "    if len(slist) == 6:\n",
        "        minimum = float(slist[0].replace(\"$\", \"\")) * 2080 // 1000\n",
        "        maximum = float(slist[2].replace(\"$\", \"\")) * 2080 // 1000\n",
        "        estimated_by = slist[4].replace(\"Hour(\", \"\")\n",
        "    elif len(slist) == 4:\n",
        "        minimum = float(slist[0].replace(\"$\", \"\")) * 2080 // 1000\n",
        "        maximum = minimum\n",
        "        estimated_by = slist[2].replace(\"Hour(\", \"\")\n",
        "\n",
        "    return [\n",
        "        row[0],\n",
        "        row[1],\n",
        "        row[2],\n",
        "        np.nan,\n",
        "        minimum,\n",
        "        maximum,\n",
        "        estimated_by\n",
        "    ]"
      ],
      "metadata": {
        "colab": {
          "base_uri": "https://localhost:8080/"
        },
        "id": "qp9cZOMpAKtA",
        "outputId": "b88e006a-386b-42e5-c002-beb2471d97a8"
      },
      "execution_count": null,
      "outputs": [
        {
          "output_type": "stream",
          "name": "stderr",
          "text": [
            "/usr/local/lib/python3.10/dist-packages/ipykernel/ipkernel.py:283: DeprecationWarning: `should_run_async` will not call `transform_cell` automatically in the future. Please pass the result to `transformed_cell` argument and any exception that happen during thetransform in `preprocessing_exc_tuple` in IPython 7.17 and above.\n",
            "  and should_run_async(code)\n"
          ]
        }
      ]
    },
    {
      "cell_type": "code",
      "source": [
        "# Function to separate yearly salary data\n",
        "def separate_salary_data(row):\n",
        "    slist = row[3].split(\" \")\n",
        "    minimum, maximum, estimated_by = None, None, None\n",
        "\n",
        "    if len(slist) == 5:\n",
        "        minimum = slist[0].replace(\"K\", \"\").replace(\"$\", \"\")\n",
        "        maximum = slist[2].replace(\"K\", \"\").replace(\"$\", \"\")\n",
        "        estimated_by = slist[3].replace(\"(\", \"\")\n",
        "    elif len(slist) == 3:\n",
        "        minimum = slist[0].replace(\"K\", \"\").replace(\"$\", \"\")\n",
        "        maximum = minimum\n",
        "        estimated_by = slist[1].replace(\"(\", \"\")\n",
        "\n",
        "    return [\n",
        "        row[0],\n",
        "        row[1],\n",
        "        row[2],\n",
        "        np.nan,\n",
        "        minimum,\n",
        "        maximum,\n",
        "        estimated_by\n",
        "    ]"
      ],
      "metadata": {
        "colab": {
          "base_uri": "https://localhost:8080/"
        },
        "id": "qqQv9lJVAPXv",
        "outputId": "1dd661a2-048c-42a2-a76f-6b4f70db985e"
      },
      "execution_count": null,
      "outputs": [
        {
          "output_type": "stream",
          "name": "stderr",
          "text": [
            "/usr/local/lib/python3.10/dist-packages/ipykernel/ipkernel.py:283: DeprecationWarning: `should_run_async` will not call `transform_cell` automatically in the future. Please pass the result to `transformed_cell` argument and any exception that happen during thetransform in `preprocessing_exc_tuple` in IPython 7.17 and above.\n",
            "  and should_run_async(code)\n"
          ]
        }
      ]
    },
    {
      "cell_type": "code",
      "source": [
        "def separate_hourly_data(row):\n",
        "    slist = row.iloc[3].split(\" \")  # Using iloc for position-based indexing\n",
        "    minimum, maximum, estimated_by = None, None, None\n",
        "\n",
        "    if len(slist) == 6:\n",
        "        minimum = float(slist[0].replace(\"$\", \"\")) * 2080 // 1000\n",
        "        maximum = float(slist[2].replace(\"$\", \"\")) * 2080 // 1000\n",
        "        estimated_by = slist[4].replace(\"Hour(\", \"\")\n",
        "    elif len(slist) == 4:\n",
        "        minimum = float(slist[0].replace(\"$\", \"\")) * 2080 // 1000\n",
        "        maximum = minimum\n",
        "        estimated_by = slist[2].replace(\"Hour(\", \"\")\n",
        "\n",
        "    return [\n",
        "        row.iloc[0],  # Using iloc here\n",
        "        row.iloc[1],  # Using iloc here\n",
        "        row.iloc[2],  # Using iloc here\n",
        "        np.nan,\n",
        "        minimum,\n",
        "        maximum,\n",
        "        estimated_by\n",
        "    ]\n",
        "\n",
        "def separate_salary_data(row):\n",
        "    slist = row.iloc[3].split(\" \")  # Using iloc for position-based indexing\n",
        "    minimum, maximum, estimated_by = None, None, None\n",
        "\n",
        "    if len(slist) == 5:\n",
        "        minimum = slist[0].replace(\"K\", \"\").replace(\"$\", \"\")\n",
        "        maximum = slist[2].replace(\"K\", \"\").replace(\"$\", \"\")\n",
        "        estimated_by = slist[3].replace(\"(\", \"\")\n",
        "    elif len(slist) == 3:\n",
        "        minimum = slist[0].replace(\"K\", \"\").replace(\"$\", \"\")\n",
        "        maximum = minimum\n",
        "        estimated_by = slist[1].replace(\"(\", \"\")\n",
        "\n",
        "    return [\n",
        "        row.iloc[0],  # Using iloc here\n",
        "        row.iloc[1],  # Using iloc here\n",
        "        row.iloc[2],  # Using iloc here\n",
        "        np.nan,\n",
        "        minimum,\n",
        "        maximum,\n",
        "        estimated_by\n",
        "    ]\n"
      ],
      "metadata": {
        "colab": {
          "base_uri": "https://localhost:8080/"
        },
        "id": "m8iZfhxmDJ5e",
        "outputId": "06d1c09d-e1e9-4056-d2f4-cb150147af9e"
      },
      "execution_count": null,
      "outputs": [
        {
          "output_type": "stream",
          "name": "stderr",
          "text": [
            "/usr/local/lib/python3.10/dist-packages/ipykernel/ipkernel.py:283: DeprecationWarning: `should_run_async` will not call `transform_cell` automatically in the future. Please pass the result to `transformed_cell` argument and any exception that happen during thetransform in `preprocessing_exc_tuple` in IPython 7.17 and above.\n",
            "  and should_run_async(code)\n"
          ]
        }
      ]
    },
    {
      "cell_type": "code",
      "source": [
        "missing = ml_job_listings[ml_job_listings[\"salary\"].isna()]\n",
        "missing = add_empty_columns(missing)\n",
        "ml_job_listings.dropna(inplace=True)"
      ],
      "metadata": {
        "colab": {
          "base_uri": "https://localhost:8080/"
        },
        "id": "Ktz11UR6AgM-",
        "outputId": "adfa3ef7-13f9-48e2-cdb4-380eb4f69746"
      },
      "execution_count": null,
      "outputs": [
        {
          "output_type": "stream",
          "name": "stderr",
          "text": [
            "/usr/local/lib/python3.10/dist-packages/ipykernel/ipkernel.py:283: DeprecationWarning: `should_run_async` will not call `transform_cell` automatically in the future. Please pass the result to `transformed_cell` argument and any exception that happen during thetransform in `preprocessing_exc_tuple` in IPython 7.17 and above.\n",
            "  and should_run_async(code)\n"
          ]
        }
      ]
    },
    {
      "cell_type": "code",
      "source": [
        "hourly = ml_job_listings[ml_job_listings[\"salary\"].str.match(\"^\\$\\d+.\\d+ \")]\n",
        "hourly = add_empty_columns(hourly)\n",
        "hourly = hourly.apply(separate_hourly_data, axis=1, result_type=\"broadcast\")"
      ],
      "metadata": {
        "colab": {
          "base_uri": "https://localhost:8080/"
        },
        "id": "aijrmsWOAjyu",
        "outputId": "f1bc260e-0a71-45d0-b54f-422640da4b98"
      },
      "execution_count": null,
      "outputs": [
        {
          "output_type": "stream",
          "name": "stderr",
          "text": [
            "/usr/local/lib/python3.10/dist-packages/ipykernel/ipkernel.py:283: DeprecationWarning: `should_run_async` will not call `transform_cell` automatically in the future. Please pass the result to `transformed_cell` argument and any exception that happen during thetransform in `preprocessing_exc_tuple` in IPython 7.17 and above.\n",
            "  and should_run_async(code)\n",
            "<>:1: DeprecationWarning: invalid escape sequence '\\$'\n",
            "<>:1: DeprecationWarning: invalid escape sequence '\\$'\n",
            "<ipython-input-98-c0aff11dc5b1>:1: DeprecationWarning: invalid escape sequence '\\$'\n",
            "  hourly = ml_job_listings[ml_job_listings[\"salary\"].str.match(\"^\\$\\d+.\\d+ \")]\n"
          ]
        }
      ]
    },
    {
      "cell_type": "code",
      "source": [
        "yearly = ml_job_listings[ml_job_listings[\"salary\"].str.match(\"^\\$\\d+K\\s-?\\(?\")]\n",
        "yearly = add_empty_columns(yearly)\n",
        "yearly = yearly.apply(separate_salary_data, axis=1, result_type=\"broadcast\")"
      ],
      "metadata": {
        "colab": {
          "base_uri": "https://localhost:8080/"
        },
        "id": "OjRnSBTyBA5G",
        "outputId": "117da140-761f-41d9-bfd0-41aaef0880c4"
      },
      "execution_count": null,
      "outputs": [
        {
          "output_type": "stream",
          "name": "stderr",
          "text": [
            "/usr/local/lib/python3.10/dist-packages/ipykernel/ipkernel.py:283: DeprecationWarning: `should_run_async` will not call `transform_cell` automatically in the future. Please pass the result to `transformed_cell` argument and any exception that happen during thetransform in `preprocessing_exc_tuple` in IPython 7.17 and above.\n",
            "  and should_run_async(code)\n",
            "<>:1: DeprecationWarning: invalid escape sequence '\\$'\n",
            "<>:1: DeprecationWarning: invalid escape sequence '\\$'\n",
            "<ipython-input-99-7d6fb2d9bec8>:1: DeprecationWarning: invalid escape sequence '\\$'\n",
            "  yearly = ml_job_listings[ml_job_listings[\"salary\"].str.match(\"^\\$\\d+K\\s-?\\(?\")]\n"
          ]
        }
      ]
    },
    {
      "cell_type": "code",
      "source": [
        "# Combine all dataframes\n",
        "ml_job_listings = pd.concat([yearly, hourly, missing], ignore_index=True)\n",
        "ml_job_listings.drop(columns=[\"salary\"], inplace=True)"
      ],
      "metadata": {
        "colab": {
          "base_uri": "https://localhost:8080/"
        },
        "id": "NYAtLxztBEYm",
        "outputId": "1d0d3725-8ffc-434b-e943-3fc4ca53e787"
      },
      "execution_count": null,
      "outputs": [
        {
          "output_type": "stream",
          "name": "stderr",
          "text": [
            "/usr/local/lib/python3.10/dist-packages/ipykernel/ipkernel.py:283: DeprecationWarning: `should_run_async` will not call `transform_cell` automatically in the future. Please pass the result to `transformed_cell` argument and any exception that happen during thetransform in `preprocessing_exc_tuple` in IPython 7.17 and above.\n",
            "  and should_run_async(code)\n"
          ]
        }
      ]
    },
    {
      "cell_type": "markdown",
      "source": [
        "Display processed salary columns"
      ],
      "metadata": {
        "id": "5XlvobE3CJW-"
      }
    },
    {
      "cell_type": "code",
      "source": [
        "print(ml_job_listings.iloc[:, 3:6])"
      ],
      "metadata": {
        "colab": {
          "base_uri": "https://localhost:8080/"
        },
        "id": "eY5jvaTDBHE4",
        "outputId": "8541b3bd-e4ae-43c5-8917-75c2b8c70221"
      },
      "execution_count": null,
      "outputs": [
        {
          "output_type": "stream",
          "name": "stdout",
          "text": [
            "    minimum_salary maximum_salary estimated_by\n",
            "0              325            375     Employer\n",
            "1               42             64    Glassdoor\n",
            "2               88            129    Glassdoor\n",
            "3              150            162     Employer\n",
            "4               43             66    Glassdoor\n",
            "..             ...            ...          ...\n",
            "295            NaN            NaN          NaN\n",
            "296            NaN            NaN          NaN\n",
            "297            NaN            NaN          NaN\n",
            "298            NaN            NaN          NaN\n",
            "299            NaN            NaN          NaN\n",
            "\n",
            "[300 rows x 3 columns]\n"
          ]
        },
        {
          "output_type": "stream",
          "name": "stderr",
          "text": [
            "/usr/local/lib/python3.10/dist-packages/ipykernel/ipkernel.py:283: DeprecationWarning: `should_run_async` will not call `transform_cell` automatically in the future. Please pass the result to `transformed_cell` argument and any exception that happen during thetransform in `preprocessing_exc_tuple` in IPython 7.17 and above.\n",
            "  and should_run_async(code)\n"
          ]
        }
      ]
    },
    {
      "cell_type": "code",
      "source": [
        "# Converting salary columns to float\n",
        "ml_job_listings[\"minimum_salary\"] = ml_job_listings[\"minimum_salary\"].astype(\"float64\")\n",
        "ml_job_listings[\"maximum_salary\"] = ml_job_listings[\"maximum_salary\"].astype(\"float64\")"
      ],
      "metadata": {
        "colab": {
          "base_uri": "https://localhost:8080/"
        },
        "id": "xDEOv0kXBRJW",
        "outputId": "66f00761-016b-486c-b485-8c58a1b08c7c"
      },
      "execution_count": null,
      "outputs": [
        {
          "output_type": "stream",
          "name": "stderr",
          "text": [
            "/usr/local/lib/python3.10/dist-packages/ipykernel/ipkernel.py:283: DeprecationWarning: `should_run_async` will not call `transform_cell` automatically in the future. Please pass the result to `transformed_cell` argument and any exception that happen during thetransform in `preprocessing_exc_tuple` in IPython 7.17 and above.\n",
            "  and should_run_async(code)\n"
          ]
        }
      ]
    },
    {
      "cell_type": "code",
      "source": [
        "# Filling missing salary data with mean values\n",
        "min_salary_mean = ml_job_listings[\"minimum_salary\"].mean()\n",
        "ml_job_listings[\"minimum_salary\"].fillna(min_salary_mean, inplace=True)"
      ],
      "metadata": {
        "colab": {
          "base_uri": "https://localhost:8080/"
        },
        "id": "xr5E-kK9BU-m",
        "outputId": "cc1775d4-c976-40be-c98a-b66f30dfce23"
      },
      "execution_count": null,
      "outputs": [
        {
          "output_type": "stream",
          "name": "stderr",
          "text": [
            "/usr/local/lib/python3.10/dist-packages/ipykernel/ipkernel.py:283: DeprecationWarning: `should_run_async` will not call `transform_cell` automatically in the future. Please pass the result to `transformed_cell` argument and any exception that happen during thetransform in `preprocessing_exc_tuple` in IPython 7.17 and above.\n",
            "  and should_run_async(code)\n"
          ]
        }
      ]
    },
    {
      "cell_type": "code",
      "source": [
        "ml_job_listings.rename(columns={\"place\": \"location\"}, inplace=True)"
      ],
      "metadata": {
        "colab": {
          "base_uri": "https://localhost:8080/"
        },
        "id": "pKQFQL05BOe3",
        "outputId": "ab12860d-8a12-4ce4-f5ca-4e4de18738cd"
      },
      "execution_count": null,
      "outputs": [
        {
          "output_type": "stream",
          "name": "stderr",
          "text": [
            "/usr/local/lib/python3.10/dist-packages/ipykernel/ipkernel.py:283: DeprecationWarning: `should_run_async` will not call `transform_cell` automatically in the future. Please pass the result to `transformed_cell` argument and any exception that happen during thetransform in `preprocessing_exc_tuple` in IPython 7.17 and above.\n",
            "  and should_run_async(code)\n"
          ]
        }
      ]
    },
    {
      "cell_type": "code",
      "source": [
        "max_salary_mean = ml_job_listings[\"maximum_salary\"].mean()\n",
        "ml_job_listings[\"maximum_salary\"].fillna(max_salary_mean, inplace=True)"
      ],
      "metadata": {
        "colab": {
          "base_uri": "https://localhost:8080/"
        },
        "id": "8KwMEJpzBYXV",
        "outputId": "80176ec7-75df-486d-ac0a-20a66bb7360b"
      },
      "execution_count": null,
      "outputs": [
        {
          "output_type": "stream",
          "name": "stderr",
          "text": [
            "/usr/local/lib/python3.10/dist-packages/ipykernel/ipkernel.py:283: DeprecationWarning: `should_run_async` will not call `transform_cell` automatically in the future. Please pass the result to `transformed_cell` argument and any exception that happen during thetransform in `preprocessing_exc_tuple` in IPython 7.17 and above.\n",
            "  and should_run_async(code)\n"
          ]
        }
      ]
    },
    {
      "cell_type": "code",
      "source": [
        "# Display the updated dataframe\n",
        "print(ml_job_listings.head())"
      ],
      "metadata": {
        "colab": {
          "base_uri": "https://localhost:8080/"
        },
        "id": "gXcTQbU0BZse",
        "outputId": "3541c322-d90d-467c-d407-3a8d192016b8"
      },
      "execution_count": null,
      "outputs": [
        {
          "output_type": "stream",
          "name": "stderr",
          "text": [
            "/usr/local/lib/python3.10/dist-packages/ipykernel/ipkernel.py:283: DeprecationWarning: `should_run_async` will not call `transform_cell` automatically in the future. Please pass the result to `transformed_cell` argument and any exception that happen during thetransform in `preprocessing_exc_tuple` in IPython 7.17 and above.\n",
            "  and should_run_async(code)\n"
          ]
        },
        {
          "output_type": "stream",
          "name": "stdout",
          "text": [
            "                                          job_title  \\\n",
            "0                                   VP, Engineering   \n",
            "1                             Junior AI/ML Engineer   \n",
            "2                              Junior Data Engineer   \n",
            "3                 [ No C2C ] ML Engineer - w/PYTHON   \n",
            "4  Associate Software Engineer - Fresh Grad Program   \n",
            "\n",
            "                      company_name         location  minimum_salary  \\\n",
            "0                             Calm           Remote           325.0   \n",
            "1               Smith & Associates      Houston, TX            42.0   \n",
            "2                             Bose   Framingham, MA            88.0   \n",
            "3  Production Modeling Corporation         Troy, MI           150.0   \n",
            "4                           Lenovo  Morrisville, NC            43.0   \n",
            "\n",
            "   maximum_salary estimated_by  \n",
            "0           375.0     Employer  \n",
            "1            64.0    Glassdoor  \n",
            "2           129.0    Glassdoor  \n",
            "3           162.0     Employer  \n",
            "4            66.0    Glassdoor  \n"
          ]
        }
      ]
    },
    {
      "cell_type": "code",
      "source": [
        "from google.colab import drive\n",
        "drive.mount('/content/drive')"
      ],
      "metadata": {
        "colab": {
          "base_uri": "https://localhost:8080/"
        },
        "id": "gYJCDo3P6Krr",
        "outputId": "9ee5009d-6c2f-492d-f7d2-d70d56e5c16d"
      },
      "execution_count": null,
      "outputs": [
        {
          "output_type": "stream",
          "name": "stderr",
          "text": [
            "/usr/local/lib/python3.10/dist-packages/ipykernel/ipkernel.py:283: DeprecationWarning: `should_run_async` will not call `transform_cell` automatically in the future. Please pass the result to `transformed_cell` argument and any exception that happen during thetransform in `preprocessing_exc_tuple` in IPython 7.17 and above.\n",
            "  and should_run_async(code)\n"
          ]
        },
        {
          "output_type": "stream",
          "name": "stdout",
          "text": [
            "Drive already mounted at /content/drive; to attempt to forcibly remount, call drive.mount(\"/content/drive\", force_remount=True).\n"
          ]
        }
      ]
    },
    {
      "cell_type": "markdown",
      "source": [
        "#ASSOCIATION RULE MINING"
      ],
      "metadata": {
        "id": "alHp7P1DDv-E"
      }
    },
    {
      "cell_type": "code",
      "source": [
        "from mlxtend.frequent_patterns import apriori, association_rules\n",
        "\n",
        "# Convert categorical data into one-hot encoded format\n",
        "association_data = pd.get_dummies(ml_job_listings[['job_title', 'company_name', 'location']])\n",
        "\n",
        "# Apply the Apriori algorithm with a lower min_support\n",
        "frequent_itemsets = apriori(association_data, min_support=0.01, use_colnames=True)\n",
        "\n",
        "# Generate the association rules with a lower confidence threshold\n",
        "rules = association_rules(frequent_itemsets, metric=\"confidence\", min_threshold=0.5)\n",
        "\n",
        "# Display the resulting association rules\n",
        "if not rules.empty:\n",
        "    print(rules[['antecedents', 'consequents', 'support', 'confidence', 'lift']])\n",
        "else:\n",
        "    print(\"No association rules found with the specified thresholds.\")\n"
      ],
      "metadata": {
        "colab": {
          "base_uri": "https://localhost:8080/"
        },
        "id": "iRcZpUYCEUs8",
        "outputId": "5a4a36e5-9b2c-48b3-d1e5-260e286b4e87"
      },
      "execution_count": null,
      "outputs": [
        {
          "output_type": "stream",
          "name": "stdout",
          "text": [
            "                            antecedents                           consequents  \\\n",
            "0    (job_title_Sr. AI ML Ops Engineer)          (location_Mountain View, CA)   \n",
            "1                  (company_name_Apple)              (location_Cupertino, CA)   \n",
            "2              (location_Cupertino, CA)                  (company_name_Apple)   \n",
            "3              (location_Sunnyvale, CA)  (company_name_Blue River Technology)   \n",
            "4  (company_name_Blue River Technology)              (location_Sunnyvale, CA)   \n",
            "5             (location_Framingham, MA)                   (company_name_Bose)   \n",
            "6                   (company_name_Bose)             (location_Framingham, MA)   \n",
            "7                 (company_name_Enigma)               (location_New York, NY)   \n",
            "8              (company_name_Grammarly)          (location_San Francisco, CA)   \n",
            "9                   (company_name_Meta)                     (location_Remote)   \n",
            "\n",
            "    support  confidence       lift  \n",
            "0  0.010000    1.000000  33.333333  \n",
            "1  0.080000    0.666667   7.407407  \n",
            "2  0.080000    0.888889   7.407407  \n",
            "3  0.010000    0.500000  50.000000  \n",
            "4  0.010000    1.000000  50.000000  \n",
            "5  0.016667    1.000000  60.000000  \n",
            "6  0.016667    1.000000  60.000000  \n",
            "7  0.010000    1.000000  15.000000  \n",
            "8  0.010000    1.000000  14.285714  \n",
            "9  0.010000    0.600000   2.769231  \n"
          ]
        },
        {
          "output_type": "stream",
          "name": "stderr",
          "text": [
            "/usr/local/lib/python3.10/dist-packages/ipykernel/ipkernel.py:283: DeprecationWarning: `should_run_async` will not call `transform_cell` automatically in the future. Please pass the result to `transformed_cell` argument and any exception that happen during thetransform in `preprocessing_exc_tuple` in IPython 7.17 and above.\n",
            "  and should_run_async(code)\n"
          ]
        }
      ]
    },
    {
      "cell_type": "markdown",
      "source": [
        "# K-means Clustering\n"
      ],
      "metadata": {
        "id": "SKhipAr0Eeh8"
      }
    },
    {
      "cell_type": "code",
      "source": [
        "# Check the column names\n",
        "print(ml_job_listings.columns)\n",
        "\n",
        "# Display the first few rows of the DataFrame to verify the columns\n",
        "print(ml_job_listings.head())\n"
      ],
      "metadata": {
        "colab": {
          "base_uri": "https://localhost:8080/"
        },
        "id": "qlt8G6-GF69E",
        "outputId": "e0203d98-f55b-411f-a109-230863a2c0a7"
      },
      "execution_count": null,
      "outputs": [
        {
          "output_type": "stream",
          "name": "stdout",
          "text": [
            "Index(['job_title', 'company_name', 'location', 'minimum_salary',\n",
            "       'maximum_salary', 'estimated_by'],\n",
            "      dtype='object')\n",
            "                                          job_title  \\\n",
            "0                                   VP, Engineering   \n",
            "1                             Junior AI/ML Engineer   \n",
            "2                              Junior Data Engineer   \n",
            "3                 [ No C2C ] ML Engineer - w/PYTHON   \n",
            "4  Associate Software Engineer - Fresh Grad Program   \n",
            "\n",
            "                      company_name         location  minimum_salary  \\\n",
            "0                             Calm           Remote           325.0   \n",
            "1               Smith & Associates      Houston, TX            42.0   \n",
            "2                             Bose   Framingham, MA            88.0   \n",
            "3  Production Modeling Corporation         Troy, MI           150.0   \n",
            "4                           Lenovo  Morrisville, NC            43.0   \n",
            "\n",
            "   maximum_salary estimated_by  \n",
            "0           375.0     Employer  \n",
            "1            64.0    Glassdoor  \n",
            "2           129.0    Glassdoor  \n",
            "3           162.0     Employer  \n",
            "4            66.0    Glassdoor  \n"
          ]
        },
        {
          "output_type": "stream",
          "name": "stderr",
          "text": [
            "/usr/local/lib/python3.10/dist-packages/ipykernel/ipkernel.py:283: DeprecationWarning: `should_run_async` will not call `transform_cell` automatically in the future. Please pass the result to `transformed_cell` argument and any exception that happen during thetransform in `preprocessing_exc_tuple` in IPython 7.17 and above.\n",
            "  and should_run_async(code)\n"
          ]
        }
      ]
    },
    {
      "cell_type": "markdown",
      "source": [
        "* Lowest Minimum Salary\n",
        "* Largest Maximum Salary"
      ],
      "metadata": {
        "id": "z4Hv_SmmHQkM"
      }
    },
    {
      "cell_type": "code",
      "source": [
        "# Find the lowest minimum salary\n",
        "lowest_minimum_salary = ml_job_listings[\"minimum_salary\"].min()\n",
        "\n",
        "# Filter the DataFrame to get the job listing(s) with the lowest minimum salary\n",
        "lowest_salary_jobs = ml_job_listings[ml_job_listings[\"minimum_salary\"] == lowest_minimum_salary]\n",
        "\n",
        "# Find the largest maximum salary\n",
        "largest_maximum_salary = ml_job_listings[\"maximum_salary\"].max()\n",
        "\n",
        "# Filter the DataFrame to get the job listing(s) with the largest maximum salary\n",
        "highest_salary_jobs = ml_job_listings[ml_job_listings[\"maximum_salary\"] == largest_maximum_salary]\n",
        "\n",
        "# Display the job listing(s) with the lowest minimum salary\n",
        "print(\"Job listings with the lowest minimum salary:\")\n",
        "print(lowest_salary_jobs)\n",
        "\n",
        "# Display the job listing(s) with the largest maximum salary\n",
        "print(\"Job listings with the largest maximum salary:\")\n",
        "print(highest_salary_jobs)\n"
      ],
      "metadata": {
        "colab": {
          "base_uri": "https://localhost:8080/"
        },
        "id": "1_3dfoKfGMsb",
        "outputId": "6e6c8604-6b21-4739-fa2f-4d5ee9da6acf"
      },
      "execution_count": null,
      "outputs": [
        {
          "output_type": "stream",
          "name": "stdout",
          "text": [
            "Job listings with the lowest minimum salary:\n",
            "                             job_title                     company_name  \\\n",
            "70  AI/ML Engineer - Entry Level - ICL  Georgia Tech Research Institute   \n",
            "\n",
            "       location  minimum_salary  maximum_salary estimated_by  \n",
            "70  Atlanta, GA            32.0            46.0    Glassdoor  \n",
            "Job listings with the largest maximum salary:\n",
            "                            job_title company_name          location  \\\n",
            "85  Sr. SW Engineer, Machine Learning         Roku  Santa Monica, CA   \n",
            "\n",
            "    minimum_salary  maximum_salary estimated_by  \n",
            "85           287.0           552.0     Employer  \n"
          ]
        },
        {
          "output_type": "stream",
          "name": "stderr",
          "text": [
            "/usr/local/lib/python3.10/dist-packages/ipykernel/ipkernel.py:283: DeprecationWarning: `should_run_async` will not call `transform_cell` automatically in the future. Please pass the result to `transformed_cell` argument and any exception that happen during thetransform in `preprocessing_exc_tuple` in IPython 7.17 and above.\n",
            "  and should_run_async(code)\n"
          ]
        }
      ]
    },
    {
      "cell_type": "code",
      "source": [
        "import pandas as pd\n",
        "import numpy as np\n",
        "from sklearn.cluster import KMeans\n",
        "from sklearn.preprocessing import StandardScaler\n",
        "import matplotlib.pyplot as plt\n",
        "import seaborn as sns\n",
        "\n",
        "# Assuming ml_job_listings is already loaded and preprocessed\n",
        "\n",
        "# Standardize the data\n",
        "scaler = StandardScaler()\n",
        "scaled_data = scaler.fit_transform(ml_job_listings[['minimum_salary', 'maximum_salary']])\n",
        "\n",
        "# Determine the optimal number of clusters using the Elbow method\n",
        "inertia = []\n",
        "for n_clusters in range(1, 11):\n",
        "    kmeans = KMeans(n_clusters=n_clusters, random_state=42)\n",
        "    kmeans.fit(scaled_data)\n",
        "    inertia.append(kmeans.inertia_)\n",
        "\n",
        "# Plot Elbow graph\n",
        "plt.figure(figsize=(8, 5))\n",
        "plt.plot(range(1, 11), inertia, marker='o')\n",
        "plt.title('Elbow Method for Optimal Number of Clusters')\n",
        "plt.xlabel('Number of Clusters')\n",
        "plt.ylabel('Inertia')\n",
        "plt.show()\n",
        "\n",
        "# Choose the optimal number of clusters (e.g., 3 from the elbow graph)\n",
        "n_clusters = 3\n",
        "kmeans = KMeans(n_clusters=n_clusters, random_state=42)\n",
        "kmeans.fit(scaled_data)\n",
        "ml_job_listings['cluster'] = kmeans.labels_\n",
        "\n",
        "# Display cluster centers\n",
        "cluster_centers = scaler.inverse_transform(kmeans.cluster_centers_)\n",
        "print(\"Cluster Centers (Original Scale):\")\n",
        "print(pd.DataFrame(cluster_centers, columns=['minimum_salary', 'maximum_salary']))\n",
        "\n",
        "# Display job listings with cluster labels\n",
        "print(\"Job Listings with Cluster Labels:\")\n",
        "print(ml_job_listings[['job_title', 'company_name', 'location', 'minimum_salary', 'maximum_salary', 'cluster']].head())\n",
        "\n",
        "# Plot clusters\n",
        "plt.figure(figsize=(10, 6))\n",
        "sns.scatterplot(data=ml_job_listings, x='minimum_salary', y='maximum_salary', hue='cluster', palette='viridis', s=100, alpha=0.7)\n",
        "plt.title('Job Listings Clustering')\n",
        "plt.xlabel('Minimum Salary')\n",
        "plt.ylabel('Maximum Salary')\n",
        "plt.legend(title='Cluster')\n",
        "plt.show()\n"
      ],
      "metadata": {
        "colab": {
          "base_uri": "https://localhost:8080/",
          "height": 1000
        },
        "id": "ElnW8a29IA2r",
        "outputId": "019951f5-a8d0-491d-862a-e1c9c3928c22"
      },
      "execution_count": null,
      "outputs": [
        {
          "output_type": "stream",
          "name": "stderr",
          "text": [
            "/usr/local/lib/python3.10/dist-packages/ipykernel/ipkernel.py:283: DeprecationWarning: `should_run_async` will not call `transform_cell` automatically in the future. Please pass the result to `transformed_cell` argument and any exception that happen during thetransform in `preprocessing_exc_tuple` in IPython 7.17 and above.\n",
            "  and should_run_async(code)\n",
            "/usr/local/lib/python3.10/dist-packages/sklearn/cluster/_kmeans.py:1416: FutureWarning: The default value of `n_init` will change from 10 to 'auto' in 1.4. Set the value of `n_init` explicitly to suppress the warning\n",
            "  super()._check_params_vs_input(X, default_n_init=10)\n",
            "/usr/local/lib/python3.10/dist-packages/sklearn/cluster/_kmeans.py:1416: FutureWarning: The default value of `n_init` will change from 10 to 'auto' in 1.4. Set the value of `n_init` explicitly to suppress the warning\n",
            "  super()._check_params_vs_input(X, default_n_init=10)\n",
            "/usr/local/lib/python3.10/dist-packages/sklearn/cluster/_kmeans.py:1416: FutureWarning: The default value of `n_init` will change from 10 to 'auto' in 1.4. Set the value of `n_init` explicitly to suppress the warning\n",
            "  super()._check_params_vs_input(X, default_n_init=10)\n",
            "/usr/local/lib/python3.10/dist-packages/sklearn/cluster/_kmeans.py:1416: FutureWarning: The default value of `n_init` will change from 10 to 'auto' in 1.4. Set the value of `n_init` explicitly to suppress the warning\n",
            "  super()._check_params_vs_input(X, default_n_init=10)\n",
            "/usr/local/lib/python3.10/dist-packages/sklearn/cluster/_kmeans.py:1416: FutureWarning: The default value of `n_init` will change from 10 to 'auto' in 1.4. Set the value of `n_init` explicitly to suppress the warning\n",
            "  super()._check_params_vs_input(X, default_n_init=10)\n",
            "/usr/local/lib/python3.10/dist-packages/sklearn/cluster/_kmeans.py:1416: FutureWarning: The default value of `n_init` will change from 10 to 'auto' in 1.4. Set the value of `n_init` explicitly to suppress the warning\n",
            "  super()._check_params_vs_input(X, default_n_init=10)\n",
            "/usr/local/lib/python3.10/dist-packages/sklearn/cluster/_kmeans.py:1416: FutureWarning: The default value of `n_init` will change from 10 to 'auto' in 1.4. Set the value of `n_init` explicitly to suppress the warning\n",
            "  super()._check_params_vs_input(X, default_n_init=10)\n",
            "/usr/local/lib/python3.10/dist-packages/sklearn/cluster/_kmeans.py:1416: FutureWarning: The default value of `n_init` will change from 10 to 'auto' in 1.4. Set the value of `n_init` explicitly to suppress the warning\n",
            "  super()._check_params_vs_input(X, default_n_init=10)\n",
            "/usr/local/lib/python3.10/dist-packages/sklearn/cluster/_kmeans.py:1416: FutureWarning: The default value of `n_init` will change from 10 to 'auto' in 1.4. Set the value of `n_init` explicitly to suppress the warning\n",
            "  super()._check_params_vs_input(X, default_n_init=10)\n",
            "/usr/local/lib/python3.10/dist-packages/sklearn/cluster/_kmeans.py:1416: FutureWarning: The default value of `n_init` will change from 10 to 'auto' in 1.4. Set the value of `n_init` explicitly to suppress the warning\n",
            "  super()._check_params_vs_input(X, default_n_init=10)\n"
          ]
        },
        {
          "output_type": "display_data",
          "data": {
            "text/plain": [
              "<Figure size 800x500 with 1 Axes>"
            ],
            "image/png": "[encoded data removed]"
          },
          "metadata": {}
        },
        {
          "output_type": "stream",
          "name": "stderr",
          "text": [
            "/usr/local/lib/python3.10/dist-packages/sklearn/cluster/_kmeans.py:1416: FutureWarning: The default value of `n_init` will change from 10 to 'auto' in 1.4. Set the value of `n_init` explicitly to suppress the warning\n",
            "  super()._check_params_vs_input(X, default_n_init=10)\n"
          ]
        },
        {
          "output_type": "stream",
          "name": "stdout",
          "text": [
            "Cluster Centers (Original Scale):\n",
            "   minimum_salary  maximum_salary\n",
            "0       74.688172      111.559140\n",
            "1      201.406250      280.125000\n",
            "2      122.890138      171.748176\n",
            "Job Listings with Cluster Labels:\n",
            "                                          job_title  \\\n",
            "0                                   VP, Engineering   \n",
            "1                             Junior AI/ML Engineer   \n",
            "2                              Junior Data Engineer   \n",
            "3                 [ No C2C ] ML Engineer - w/PYTHON   \n",
            "4  Associate Software Engineer - Fresh Grad Program   \n",
            "\n",
            "                      company_name         location  minimum_salary  \\\n",
            "0                             Calm           Remote           325.0   \n",
            "1               Smith & Associates      Houston, TX            42.0   \n",
            "2                             Bose   Framingham, MA            88.0   \n",
            "3  Production Modeling Corporation         Troy, MI           150.0   \n",
            "4                           Lenovo  Morrisville, NC            43.0   \n",
            "\n",
            "   maximum_salary  cluster  \n",
            "0           375.0        1  \n",
            "1            64.0        0  \n",
            "2           129.0        0  \n",
            "3           162.0        2  \n",
            "4            66.0        0  \n"
          ]
        },
        {
          "output_type": "display_data",
          "data": {
            "text/plain": [
              "<Figure size 1000x600 with 1 Axes>"
            ],
            "image/png": "[encoded data removed]"
          },
          "metadata": {}
        }
      ]
    }
  ]
}